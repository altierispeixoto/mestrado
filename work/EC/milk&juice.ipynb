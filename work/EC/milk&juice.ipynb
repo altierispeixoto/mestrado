{
 "cells": [
  {
   "cell_type": "code",
   "execution_count": 2,
   "metadata": {},
   "outputs": [],
   "source": [
    "!pip install inspyred -q"
   ]
  },
  {
   "cell_type": "code",
   "execution_count": 3,
   "metadata": {
    "collapsed": true
   },
   "outputs": [],
   "source": [
    "import random\n",
    "from inspyred import ec\n",
    "from inspyred.ec import replacers\n",
    "from inspyred.ec import terminators\n",
    "from inspyred.ec import observers"
   ]
  },
  {
   "cell_type": "code",
   "execution_count": 4,
   "metadata": {
    "collapsed": true
   },
   "outputs": [],
   "source": [
    "def generate_candidates(random, args):\n",
    "    \"\"\"Generate candidates (Leite,Suco)\"\"\"\n",
    "    return random.randint(0, 800), random.randint(0, 750)\n",
    "\n",
    "def h1(candidate):\n",
    "    \"\"\"h1(L,S) = (max{0,(6*L+5*S)/100-60})/15\"\"\"\n",
    "    return max(0, (6*candidate[0]+5*candidate[1])/100-60)/15\n",
    "\n",
    "\n",
    "def h2(candidate):\n",
    "    \"\"\"h2(L,S) = (max{0,(10*L+20*S)-15000})/3750\"\"\"\n",
    "    return max(0, (10*candidate[0]+20*candidate[1])-15000)/3750\n",
    "\n",
    "\n",
    "def h3(candidate):\n",
    "    \"\"\"h3(L,S) = (max{0,L-800}/200)\"\"\"\n",
    "    return max(0, candidate[0]-800)/200\n",
    "\n",
    "\n",
    "def h4(candidate):\n",
    "    \"\"\"h4(L,S) = (max{0,S-750}/187,5)\"\"\"\n",
    "    return max(0, candidate[1]-750)/187.5\n",
    "\n",
    "\n",
    "def fitness(candidate):\n",
    "    return (candidate[0] * 5 + candidate[1] * 4.5)/7375\n",
    "\n",
    "\n",
    "def my_constraint_function(candidate):\n",
    "    return fitness(candidate) - (h1(candidate=candidate)+h2(candidate)+h3(candidate)+h4(candidate))\n",
    "\n",
    "\n",
    "def my_evaluator(candidates, args):\n",
    "    fitness = []\n",
    "    for c in candidates:\n",
    "        fitness.append(my_constraint_function(c))\n",
    "    return fitness"
   ]
  },
  {
   "cell_type": "code",
   "execution_count": 5,
   "metadata": {
    "collapsed": true
   },
   "outputs": [],
   "source": [
    "def constrained_tournament_selection(random, population, args):\n",
    "    num_selected = args.setdefault('num_selected', 1)\n",
    "    constraint_func = args.setdefault('constraint_function', None)\n",
    "    tournament_size = 2\n",
    "    pop = list(population)\n",
    "    selected = []\n",
    "    for _ in range(num_selected):\n",
    "        tournament = random.sample(pop, tournament_size)\n",
    "        # If there is not a constraint function,\n",
    "        # just do regular tournament selection.\n",
    "        if constraint_func is None:\n",
    "            selected.append(max(tournament))\n",
    "        else:\n",
    "            cons = [constraint_func(t.candidate) for t in tournament]\n",
    "            # If no constraints are violated, just do \n",
    "            # regular tournament selection.\n",
    "            if max(cons) == 0:\n",
    "                selected.append(max(tournament))\n",
    "            # Otherwise, choose the least violator \n",
    "            # (which may be a non-violator).\n",
    "            else:\n",
    "                selected.append(tournament[cons.index(min(cons))])\n",
    "    return selected"
   ]
  },
  {
   "cell_type": "code",
   "execution_count": 6,
   "metadata": {},
   "outputs": [
    {
     "name": "stdout",
     "output_type": "stream",
     "text": [
      "Generation Evaluation      Worst       Best     Median    Average    Std Dev\n",
      "---------- ---------- ---------- ---------- ---------- ---------- ----------\n",
      "         0      12000 -2.7693107 0.69635028 0.37976271 0.21044062 0.54892585\n",
      "\n",
      "Terminated due to evaluation_termination.\n",
      "(651, 419) : 0.6963502824858759\n",
      "5140.5\n"
     ]
    }
   ],
   "source": [
    "r = random.Random()\n",
    "myec = ec.EvolutionaryComputation(r)\n",
    "myec.selector = constrained_tournament_selection\n",
    "#myec.variator = variators.gaussian_mutation\n",
    "myec.replacer = replacers.generational_replacement\n",
    "myec.terminator = terminators.evaluation_termination\n",
    "myec.observer = observers.stats_observer\n",
    "\n",
    "pop = myec.evolve(generator=generate_candidates,\n",
    "                  evaluator=my_evaluator,\n",
    "                  pop_size=12000,\n",
    "                  num_selected=100,\n",
    "                  constraint_func=my_constraint_function,\n",
    "                  mutation_rate=0.5,\n",
    "                  max_evaluations=10000)\n",
    "\n",
    "pop.sort(reverse=True)\n",
    "print('Terminated due to {0}.'.format(myec.termination_cause))\n",
    "print(pop[0])\n",
    "\n",
    "leite = pop[0].candidate[0]\n",
    "suco = pop[0].candidate[1]\n",
    "\n",
    "valor = (5*leite)+(4.5*suco)\n",
    "print(valor)"
   ]
  }
 ],
 "metadata": {
  "kernelspec": {
   "display_name": "Python 3",
   "language": "python",
   "name": "python3"
  },
  "language_info": {
   "codemirror_mode": {
    "name": "ipython",
    "version": 3
   },
   "file_extension": ".py",
   "mimetype": "text/x-python",
   "name": "python",
   "nbconvert_exporter": "python",
   "pygments_lexer": "ipython3",
   "version": "3.6.3"
  }
 },
 "nbformat": 4,
 "nbformat_minor": 2
}
