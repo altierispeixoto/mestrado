{
 "cells": [
  {
   "cell_type": "markdown",
   "metadata": {},
   "source": [
    "### Tarefa: Elaboração de Short Paper sobre Classificação (Autenticação Bancária) "
   ]
  },
  {
   "cell_type": "markdown",
   "metadata": {},
   "source": [
    "Informação dos Atributos:  \n",
    "\n",
    "Entradas (informações da transformada Wavelet da imagem)  \n",
    "1. variance of Wavelet Transformed image (continuous)\n",
    "2. skewness of Wavelet Transformed image (continuous)\n",
    "3. curtosis of Wavelet Transformed image (continuous)\n",
    "4. entropy of image (continuous)  \n",
    "\n",
    "Saída (Classe)  \n",
    "class (integer): 0 autêntica 1 falsificada"
   ]
  },
  {
   "cell_type": "code",
   "execution_count": null,
   "metadata": {
    "collapsed": true
   },
   "outputs": [],
   "source": [
    "import pandas as pd\n",
    "import matplotlib\n",
    "import numpy as np\n",
    "import matplotlib.pyplot as plt\n",
    "%matplotlib inline"
   ]
  },
  {
   "cell_type": "code",
   "execution_count": null,
   "metadata": {},
   "outputs": [],
   "source": [
    "data_types = {\n",
    "    \"wti_variance\":\"float\",\n",
    "    \"wti_skewness\":\"float\",\n",
    "    \"wti_curtosis\":\"float\",\n",
    "    \"image_entropy\":\"float\",\n",
    "    \"class\":\"int\"\n",
    "}\n",
    "\n",
    "columns = [\"wti_variance\", \"wti_skewness\", \"wti_curtosis\", \"image_entropy\",\"class\"]\n",
    "\n",
    "dataset = pd.read_csv('../IA/data/dados_autent_bancaria.txt',dtype=data_types,names=columns)"
   ]
  },
  {
   "cell_type": "code",
   "execution_count": null,
   "metadata": {},
   "outputs": [],
   "source": [
    "dataset.head()"
   ]
  },
  {
   "cell_type": "code",
   "execution_count": null,
   "metadata": {},
   "outputs": [],
   "source": [
    "pd.plotting.scatter_matrix(dataset.drop('class',axis=1), alpha = 0.3, figsize = (14,10), diagonal = 'kde');"
   ]
  },
  {
   "cell_type": "markdown",
   "metadata": {},
   "source": [
    "*Implementar um sistema fuzzy (cujas regras foram definidas pelo\n",
    "método do Wang Mendel ou pelo especialista).  \n",
    "Testar diferentes estruturas de sistemas fuzzy (partição do espaço –\n",
    "formatos e total de conjuntos fuzzy, operadores do mecanismo de\n",
    "inferência, etc..) "
   ]
  },
  {
   "cell_type": "code",
   "execution_count": null,
   "metadata": {},
   "outputs": [],
   "source": [
    "sns.pairplot(dataset)"
   ]
  },
  {
   "cell_type": "code",
   "execution_count": null,
   "metadata": {},
   "outputs": [],
   "source": [
    "from sklearn.model_selection import train_test_split\n",
    "\n",
    "X = dataset.drop('class',axis=1)\n",
    "y = dataset['class']\n",
    "\n",
    "X_train, X_test, y_train, y_test = train_test_split(X, y, test_size=0.20, random_state=42)"
   ]
  },
  {
   "cell_type": "code",
   "execution_count": null,
   "metadata": {},
   "outputs": [],
   "source": [
    "X_train.head()"
   ]
  },
  {
   "cell_type": "code",
   "execution_count": null,
   "metadata": {},
   "outputs": [],
   "source": [
    "X_test.head()"
   ]
  },
  {
   "cell_type": "code",
   "execution_count": null,
   "metadata": {},
   "outputs": [],
   "source": [
    "#Wang Mendel\n",
    "!pip install scikit-fuzzy -q "
   ]
  },
  {
   "cell_type": "code",
   "execution_count": null,
   "metadata": {},
   "outputs": [],
   "source": [
    "!pip install -e hg+https://bitbucket.org/JosieMcCulloch/fuzzycreator/#egg=fuzzycreator"
   ]
  },
  {
   "cell_type": "code",
   "execution_count": null,
   "metadata": {},
   "outputs": [],
   "source": [
    "import skfuzzy as fuzz\n",
    "from skfuzzy import control as ctrl\n",
    "import numpy as np"
   ]
  },
  {
   "cell_type": "code",
   "execution_count": null,
   "metadata": {},
   "outputs": [],
   "source": [
    "# New Antecedent/Consequent objects hold universe variables and membership\n",
    "# functions\n",
    "quality = ctrl.Antecedent(np.arange(0, 11, 1), 'quality')\n",
    "service = ctrl.Antecedent(np.arange(0, 11, 1), 'service')\n",
    "tip = ctrl.Consequent(np.arange(0, 26, 1), 'tip')"
   ]
  },
  {
   "cell_type": "code",
   "execution_count": null,
   "metadata": {},
   "outputs": [],
   "source": [
    "# Auto-membership function population is possible with .automf(3, 5, or 7)\n",
    "quality.automf(3)\n",
    "service.automf(3)\n"
   ]
  },
  {
   "cell_type": "code",
   "execution_count": null,
   "metadata": {
    "collapsed": true
   },
   "outputs": [],
   "source": [
    "# Custom membership functions can be built interactively with a familiar,\n",
    "# Pythonic API\n",
    "tip['low'] = fuzz.trimf(tip.universe, [0, 0, 13])\n",
    "tip['medium'] = fuzz.trimf(tip.universe, [0, 13, 25])\n",
    "tip['high'] = fuzz.trimf(tip.universe, [13, 25, 25])"
   ]
  },
  {
   "cell_type": "code",
   "execution_count": 1,
   "metadata": {},
   "outputs": [
    {
     "name": "stderr",
     "output_type": "stream",
     "text": [
      "/opt/conda/lib/python3.6/site-packages/matplotlib/__init__.py:1405: UserWarning: \n",
      "This call to matplotlib.use() has no effect because the backend has already\n",
      "been chosen; matplotlib.use() must be called *before* pylab, matplotlib.pyplot,\n",
      "or matplotlib.backends is imported for the first time.\n",
      "\n",
      "  warnings.warn(_use_error_msg)\n"
     ]
    }
   ],
   "source": [
    "import matplotlib\n",
    "matplotlib.use('TkAgg')\n",
    "import matplotlib.pyplot as plt\n",
    "\n",
    "# You can see how these look with .view()\n",
    "#quality['average'].view()"
   ]
  },
  {
   "cell_type": "code",
   "execution_count": null,
   "metadata": {},
   "outputs": [],
   "source": [
    "service.view()"
   ]
  },
  {
   "cell_type": "code",
   "execution_count": null,
   "metadata": {},
   "outputs": [],
   "source": [
    "tip.view()"
   ]
  },
  {
   "cell_type": "code",
   "execution_count": null,
   "metadata": {},
   "outputs": [],
   "source": [
    "rule1 = ctrl.Rule(quality['poor'] | service['poor'], tip['low'])\n",
    "rule2 = ctrl.Rule(service['average'], tip['medium'])\n",
    "rule3 = ctrl.Rule(service['good'] | quality['good'], tip['high'])\n",
    "\n",
    "rule1.view()"
   ]
  },
  {
   "cell_type": "code",
   "execution_count": null,
   "metadata": {
    "collapsed": true
   },
   "outputs": [],
   "source": [
    "tipping_ctrl = ctrl.ControlSystem([rule1, rule2, rule3])"
   ]
  },
  {
   "cell_type": "code",
   "execution_count": null,
   "metadata": {
    "collapsed": true
   },
   "outputs": [],
   "source": [
    "tipping = ctrl.ControlSystemSimulation(tipping_ctrl)"
   ]
  },
  {
   "cell_type": "code",
   "execution_count": null,
   "metadata": {
    "collapsed": true
   },
   "outputs": [],
   "source": [
    "# Pass inputs to the ControlSystem using Antecedent labels with Pythonic API\n",
    "# Note: if you like passing many inputs all at once, use .inputs(dict_of_data)\n",
    "tipping.input['quality'] = 6.5\n",
    "tipping.input['service'] = 9.8\n",
    "\n",
    "# Crunch the numbers\n",
    "tipping.compute()"
   ]
  },
  {
   "cell_type": "code",
   "execution_count": null,
   "metadata": {},
   "outputs": [],
   "source": [
    "print(tipping.output['tip'] )\n",
    "tip.view(sim=tipping)"
   ]
  },
  {
   "cell_type": "markdown",
   "metadata": {},
   "source": [
    "http://eprints.nottingham.ac.uk/44376/1/toolkit.pdf  \n",
    "http://www.volksbot.de/surmann/papers/nf2002.pdf  \n",
    "http://pythonhosted.org/scikit-fuzzy/auto_examples/plot_tipping_problem_newapi.html#creating-the-tipping-controller-using-the-skfuzzy-control-api"
   ]
  }
 ],
 "metadata": {
  "kernelspec": {
   "display_name": "Python 3",
   "language": "python",
   "name": "python3"
  },
  "language_info": {
   "codemirror_mode": {
    "name": "ipython",
    "version": 3
   },
   "file_extension": ".py",
   "mimetype": "text/x-python",
   "name": "python",
   "nbconvert_exporter": "python",
   "pygments_lexer": "ipython3",
   "version": "3.6.3"
  }
 },
 "nbformat": 4,
 "nbformat_minor": 2
}
