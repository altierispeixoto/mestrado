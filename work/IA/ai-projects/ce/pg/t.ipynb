{
 "cells": [
  {
   "cell_type": "code",
   "execution_count": 5,
   "metadata": {
    "collapsed": true
   },
   "outputs": [],
   "source": [
    "import numpy\n",
    "\n",
    "def protectedDiv(left, right):\n",
    "    with numpy.errstate(divide='ignore',invalid='ignore'):\n",
    "        x = numpy.divide(left, right)\n",
    "        if isinstance(x, numpy.ndarray):\n",
    "            x[numpy.isinf(x)] = 1\n",
    "            x[numpy.isnan(x)] = 1\n",
    "        elif numpy.isinf(x) or numpy.isnan(x):\n",
    "            x = 1\n",
    "    return x\n",
    "\n",
    "\n",
    "x4 = 86.3"
   ]
  },
  {
   "cell_type": "code",
   "execution_count": 6,
   "metadata": {},
   "outputs": [
    {
     "data": {
      "text/plain": [
       "85.3"
      ]
     },
     "execution_count": 6,
     "metadata": {},
     "output_type": "execute_result"
    }
   ],
   "source": [
    "x4- protectedDiv(x4, 0)"
   ]
  }
 ],
 "metadata": {
  "kernelspec": {
   "display_name": "Python 2",
   "language": "python",
   "name": "python2"
  },
  "language_info": {
   "codemirror_mode": {
    "name": "ipython",
    "version": 2
   },
   "file_extension": ".py",
   "mimetype": "text/x-python",
   "name": "python",
   "nbconvert_exporter": "python",
   "pygments_lexer": "ipython2",
   "version": "2.7.6"
  }
 },
 "nbformat": 4,
 "nbformat_minor": 0
}
