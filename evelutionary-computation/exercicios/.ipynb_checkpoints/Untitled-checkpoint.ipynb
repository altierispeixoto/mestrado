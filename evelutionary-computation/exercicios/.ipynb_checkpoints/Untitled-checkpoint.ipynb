{
 "cells": [
  {
   "cell_type": "code",
   "execution_count": 9,
   "metadata": {},
   "outputs": [
    {
     "name": "stdout",
     "output_type": "stream",
     "text": [
      "Collecting inspyred\n",
      "  Downloading inspyred-1.0.1-py2.py3-none-any.whl (88kB)\n",
      "\u001b[K    100% |████████████████████████████████| 92kB 941kB/s ta 0:00:01\n",
      "\u001b[?25hInstalling collected packages: inspyred\n",
      "Successfully installed inspyred-1.0.1\n",
      "\u001b[33mYou are using pip version 9.0.1, however version 9.0.3 is available.\n",
      "You should consider upgrading via the 'pip install --upgrade pip' command.\u001b[0m\n"
     ]
    }
   ],
   "source": [
    "!pip install inspyred"
   ]
  },
  {
   "cell_type": "code",
   "execution_count": 10,
   "metadata": {
    "collapsed": true
   },
   "outputs": [],
   "source": [
    "import random\n",
    "from inspyred import ec\n",
    "from inspyred.ec import replacers\n",
    "from inspyred.ec import terminators\n",
    "from inspyred.ec import observers"
   ]
  },
  {
   "cell_type": "code",
   "execution_count": 11,
   "metadata": {
    "collapsed": true
   },
   "outputs": [],
   "source": [
    "def generate_candidates(random, args):\n",
    "    \"\"\"Generate candidates (Leite,Suco)\"\"\"\n",
    "    return random.randint(0, 800), random.randint(0, 750)\n",
    "\n",
    "def h1(candidate):\n",
    "    \"\"\"h1(L,S) = (max{0,(6*L+5*S)/100-60})/15\"\"\"\n",
    "    return max(0, (6*candidate[0]+5*candidate[1])/100-60)/15\n",
    "\n",
    "\n",
    "def h2(candidate):\n",
    "    \"\"\"h2(L,S) = (max{0,(10*L+20*S)-15000})/3750\"\"\"\n",
    "    return max(0, (10*candidate[0]+20*candidate[1])-15000)/3750\n",
    "\n",
    "\n",
    "def h3(candidate):\n",
    "    \"\"\"h3(L,S) = (max{0,L-800}/200)\"\"\"\n",
    "    return max(0, candidate[0]-800)/200\n",
    "\n",
    "\n",
    "def h4(candidate):\n",
    "    \"\"\"h4(L,S) = (max{0,S-750}/187,5)\"\"\"\n",
    "    return max(0, candidate[1]-750)/187.5\n",
    "\n",
    "\n",
    "def fitness(candidate):\n",
    "    return (candidate[0] * 5 + candidate[1] * 4.5)/7375\n",
    "\n",
    "\n",
    "def my_constraint_function(candidate):\n",
    "    return fitness(candidate) - (h1(candidate=candidate)+h2(candidate)+h3(candidate)+h4(candidate))\n"
   ]
  },
  {
   "cell_type": "code",
   "execution_count": 12,
   "metadata": {
    "collapsed": true
   },
   "outputs": [],
   "source": [
    "def my_evaluator(candidates, args):\n",
    "    fitness = []\n",
    "    for c in candidates:\n",
    "        fitness.append(my_constraint_function(c))\n",
    "    return fitness\n"
   ]
  },
  {
   "cell_type": "code",
   "execution_count": 13,
   "metadata": {
    "collapsed": true
   },
   "outputs": [],
   "source": [
    "def constrained_tournament_selection(random, population, args):\n",
    "    num_selected = args.setdefault('num_selected', 1)\n",
    "    constraint_func = args.setdefault('constraint_function', None)\n",
    "    tournament_size = 2\n",
    "    pop = list(population)\n",
    "    selected = []\n",
    "    for _ in range(num_selected):\n",
    "        tournament = random.sample(pop, tournament_size)\n",
    "        # If there is not a constraint function,\n",
    "        # just do regular tournament selection.\n",
    "        if constraint_func is None:\n",
    "            selected.append(max(tournament))\n",
    "        else:\n",
    "            cons = [constraint_func(t.candidate) for t in tournament]\n",
    "            # If no constraints are violated, just do \n",
    "            # regular tournament selection.\n",
    "            if max(cons) == 0:\n",
    "                selected.append(max(tournament))\n",
    "            # Otherwise, choose the least violator \n",
    "            # (which may be a non-violator).\n",
    "            else:\n",
    "                selected.append(tournament[cons.index(min(cons))])\n",
    "    return selected\n"
   ]
  },
  {
   "cell_type": "code",
   "execution_count": 23,
   "metadata": {},
   "outputs": [
    {
     "name": "stdout",
     "output_type": "stream",
     "text": [
      "Generation Evaluation      Worst       Best     Median    Average    Std Dev\n",
      "---------- ---------- ---------- ---------- ---------- ---------- ----------\n",
      "         0        100 -2.1138305 0.68144632 0.39909604 0.22880192 0.58734247\n",
      "\n",
      "Generation Evaluation      Worst       Best     Median    Average    Std Dev\n",
      "---------- ---------- ---------- ---------- ---------- ---------- ----------\n",
      "         1        101 0.65491525 0.65491525 0.65491525 0.65491525        0.0\n",
      "\n"
     ]
    },
    {
     "ename": "ValueError",
     "evalue": "Sample larger than population or is negative",
     "output_type": "error",
     "traceback": [
      "\u001b[0;31m---------------------------------------------------------------------------\u001b[0m",
      "\u001b[0;31mValueError\u001b[0m                                Traceback (most recent call last)",
      "\u001b[0;32m<ipython-input-23-9b7d263eb8a8>\u001b[0m in \u001b[0;36m<module>\u001b[0;34m()\u001b[0m\n\u001b[1;32m     17\u001b[0m                   \u001b[0;31m#num_elites=1,\u001b[0m\u001b[0;34m\u001b[0m\u001b[0;34m\u001b[0m\u001b[0m\n\u001b[1;32m     18\u001b[0m                   \u001b[0mnum_inputs\u001b[0m\u001b[0;34m=\u001b[0m\u001b[0;36m3\u001b[0m\u001b[0;34m,\u001b[0m\u001b[0;34m\u001b[0m\u001b[0m\n\u001b[0;32m---> 19\u001b[0;31m                   max_evaluations=100000)\n\u001b[0m\u001b[1;32m     20\u001b[0m \u001b[0;34m\u001b[0m\u001b[0m\n\u001b[1;32m     21\u001b[0m \u001b[0mpop\u001b[0m\u001b[0;34m.\u001b[0m\u001b[0msort\u001b[0m\u001b[0;34m(\u001b[0m\u001b[0mreverse\u001b[0m\u001b[0;34m=\u001b[0m\u001b[0;32mTrue\u001b[0m\u001b[0;34m)\u001b[0m\u001b[0;34m\u001b[0m\u001b[0m\n",
      "\u001b[0;32m/opt/conda/lib/python3.6/site-packages/inspyred/ec/ec.py\u001b[0m in \u001b[0;36mevolve\u001b[0;34m(self, generator, evaluator, pop_size, seeds, maximize, bounder, **args)\u001b[0m\n\u001b[1;32m    462\u001b[0m             \u001b[0;31m# Select individuals.\u001b[0m\u001b[0;34m\u001b[0m\u001b[0;34m\u001b[0m\u001b[0m\n\u001b[1;32m    463\u001b[0m             \u001b[0mself\u001b[0m\u001b[0;34m.\u001b[0m\u001b[0mlogger\u001b[0m\u001b[0;34m.\u001b[0m\u001b[0mdebug\u001b[0m\u001b[0;34m(\u001b[0m\u001b[0;34m'selection using {0} at generation {1} and evaluation {2}'\u001b[0m\u001b[0;34m.\u001b[0m\u001b[0mformat\u001b[0m\u001b[0;34m(\u001b[0m\u001b[0mself\u001b[0m\u001b[0;34m.\u001b[0m\u001b[0mselector\u001b[0m\u001b[0;34m.\u001b[0m\u001b[0m__name__\u001b[0m\u001b[0;34m,\u001b[0m \u001b[0mself\u001b[0m\u001b[0;34m.\u001b[0m\u001b[0mnum_generations\u001b[0m\u001b[0;34m,\u001b[0m \u001b[0mself\u001b[0m\u001b[0;34m.\u001b[0m\u001b[0mnum_evaluations\u001b[0m\u001b[0;34m)\u001b[0m\u001b[0;34m)\u001b[0m\u001b[0;34m\u001b[0m\u001b[0m\n\u001b[0;32m--> 464\u001b[0;31m             \u001b[0mparents\u001b[0m \u001b[0;34m=\u001b[0m \u001b[0mself\u001b[0m\u001b[0;34m.\u001b[0m\u001b[0mselector\u001b[0m\u001b[0;34m(\u001b[0m\u001b[0mrandom\u001b[0m\u001b[0;34m=\u001b[0m\u001b[0mself\u001b[0m\u001b[0;34m.\u001b[0m\u001b[0m_random\u001b[0m\u001b[0;34m,\u001b[0m \u001b[0mpopulation\u001b[0m\u001b[0;34m=\u001b[0m\u001b[0mlist\u001b[0m\u001b[0;34m(\u001b[0m\u001b[0mself\u001b[0m\u001b[0;34m.\u001b[0m\u001b[0mpopulation\u001b[0m\u001b[0;34m)\u001b[0m\u001b[0;34m,\u001b[0m \u001b[0margs\u001b[0m\u001b[0;34m=\u001b[0m\u001b[0mself\u001b[0m\u001b[0;34m.\u001b[0m\u001b[0m_kwargs\u001b[0m\u001b[0;34m)\u001b[0m\u001b[0;34m\u001b[0m\u001b[0m\n\u001b[0m\u001b[1;32m    465\u001b[0m             \u001b[0mself\u001b[0m\u001b[0;34m.\u001b[0m\u001b[0mlogger\u001b[0m\u001b[0;34m.\u001b[0m\u001b[0mdebug\u001b[0m\u001b[0;34m(\u001b[0m\u001b[0;34m'selected {0} candidates'\u001b[0m\u001b[0;34m.\u001b[0m\u001b[0mformat\u001b[0m\u001b[0;34m(\u001b[0m\u001b[0mlen\u001b[0m\u001b[0;34m(\u001b[0m\u001b[0mparents\u001b[0m\u001b[0;34m)\u001b[0m\u001b[0;34m)\u001b[0m\u001b[0;34m)\u001b[0m\u001b[0;34m\u001b[0m\u001b[0m\n\u001b[1;32m    466\u001b[0m             \u001b[0mparent_cs\u001b[0m \u001b[0;34m=\u001b[0m \u001b[0;34m[\u001b[0m\u001b[0mcopy\u001b[0m\u001b[0;34m.\u001b[0m\u001b[0mdeepcopy\u001b[0m\u001b[0;34m(\u001b[0m\u001b[0mi\u001b[0m\u001b[0;34m.\u001b[0m\u001b[0mcandidate\u001b[0m\u001b[0;34m)\u001b[0m \u001b[0;32mfor\u001b[0m \u001b[0mi\u001b[0m \u001b[0;32min\u001b[0m \u001b[0mparents\u001b[0m\u001b[0;34m]\u001b[0m\u001b[0;34m\u001b[0m\u001b[0m\n",
      "\u001b[0;32m<ipython-input-13-5b002476fe68>\u001b[0m in \u001b[0;36mconstrained_tournament_selection\u001b[0;34m(random, population, args)\u001b[0m\n\u001b[1;32m      6\u001b[0m     \u001b[0mselected\u001b[0m \u001b[0;34m=\u001b[0m \u001b[0;34m[\u001b[0m\u001b[0;34m]\u001b[0m\u001b[0;34m\u001b[0m\u001b[0m\n\u001b[1;32m      7\u001b[0m     \u001b[0;32mfor\u001b[0m \u001b[0m_\u001b[0m \u001b[0;32min\u001b[0m \u001b[0mrange\u001b[0m\u001b[0;34m(\u001b[0m\u001b[0mnum_selected\u001b[0m\u001b[0;34m)\u001b[0m\u001b[0;34m:\u001b[0m\u001b[0;34m\u001b[0m\u001b[0m\n\u001b[0;32m----> 8\u001b[0;31m         \u001b[0mtournament\u001b[0m \u001b[0;34m=\u001b[0m \u001b[0mrandom\u001b[0m\u001b[0;34m.\u001b[0m\u001b[0msample\u001b[0m\u001b[0;34m(\u001b[0m\u001b[0mpop\u001b[0m\u001b[0;34m,\u001b[0m \u001b[0mtournament_size\u001b[0m\u001b[0;34m)\u001b[0m\u001b[0;34m\u001b[0m\u001b[0m\n\u001b[0m\u001b[1;32m      9\u001b[0m         \u001b[0;31m# If there is not a constraint function,\u001b[0m\u001b[0;34m\u001b[0m\u001b[0;34m\u001b[0m\u001b[0m\n\u001b[1;32m     10\u001b[0m         \u001b[0;31m# just do regular tournament selection.\u001b[0m\u001b[0;34m\u001b[0m\u001b[0;34m\u001b[0m\u001b[0m\n",
      "\u001b[0;32m/opt/conda/lib/python3.6/random.py\u001b[0m in \u001b[0;36msample\u001b[0;34m(self, population, k)\u001b[0m\n\u001b[1;32m    315\u001b[0m         \u001b[0mn\u001b[0m \u001b[0;34m=\u001b[0m \u001b[0mlen\u001b[0m\u001b[0;34m(\u001b[0m\u001b[0mpopulation\u001b[0m\u001b[0;34m)\u001b[0m\u001b[0;34m\u001b[0m\u001b[0m\n\u001b[1;32m    316\u001b[0m         \u001b[0;32mif\u001b[0m \u001b[0;32mnot\u001b[0m \u001b[0;36m0\u001b[0m \u001b[0;34m<=\u001b[0m \u001b[0mk\u001b[0m \u001b[0;34m<=\u001b[0m \u001b[0mn\u001b[0m\u001b[0;34m:\u001b[0m\u001b[0;34m\u001b[0m\u001b[0m\n\u001b[0;32m--> 317\u001b[0;31m             \u001b[0;32mraise\u001b[0m \u001b[0mValueError\u001b[0m\u001b[0;34m(\u001b[0m\u001b[0;34m\"Sample larger than population or is negative\"\u001b[0m\u001b[0;34m)\u001b[0m\u001b[0;34m\u001b[0m\u001b[0m\n\u001b[0m\u001b[1;32m    318\u001b[0m         \u001b[0mresult\u001b[0m \u001b[0;34m=\u001b[0m \u001b[0;34m[\u001b[0m\u001b[0;32mNone\u001b[0m\u001b[0;34m]\u001b[0m \u001b[0;34m*\u001b[0m \u001b[0mk\u001b[0m\u001b[0;34m\u001b[0m\u001b[0m\n\u001b[1;32m    319\u001b[0m         \u001b[0msetsize\u001b[0m \u001b[0;34m=\u001b[0m \u001b[0;36m21\u001b[0m        \u001b[0;31m# size of a small set minus size of an empty list\u001b[0m\u001b[0;34m\u001b[0m\u001b[0m\n",
      "\u001b[0;31mValueError\u001b[0m: Sample larger than population or is negative"
     ]
    }
   ],
   "source": [
    "r = random.Random()\n",
    "r.seed(42)\n",
    "myec = ec.EvolutionaryComputation(r)\n",
    "myec.selector = constrained_tournament_selection\n",
    "#myec.variator = variators.gaussian_mutation\n",
    "myec.replacer = replacers.generational_replacement\n",
    "myec.terminator = terminators.evaluation_termination\n",
    "myec.observer = observers.stats_observer\n",
    "\n",
    "pop = myec.evolve(generator=generate_candidates,\n",
    "                  evaluator=my_evaluator,\n",
    "                  pop_size=100,\n",
    "                  num_selected=100,\n",
    "                  maximize=True,\n",
    "                  constraint_func=my_constraint_function,\n",
    "                  mutation_rate=0.5,\n",
    "                  num_elites=1,\n",
    "                  max_evaluations=100000)\n",
    "\n",
    "pop.sort(reverse=True)\n",
    "print('Terminated due to {0}.'.format(myec.termination_cause))\n",
    "print(pop[0])\n",
    "\n",
    "leite = pop[0].candidate[0]\n",
    "suco = pop[0].candidate[1]\n",
    "\n",
    "valor = (5*leite)+(4.5*suco)\n",
    "print(valor) #otimo (643,428)\n"
   ]
  }
 ],
 "metadata": {
  "kernelspec": {
   "display_name": "Python 3",
   "language": "python",
   "name": "python3"
  },
  "language_info": {
   "codemirror_mode": {
    "name": "ipython",
    "version": 3
   },
   "file_extension": ".py",
   "mimetype": "text/x-python",
   "name": "python",
   "nbconvert_exporter": "python",
   "pygments_lexer": "ipython3",
   "version": "3.6.3"
  }
 },
 "nbformat": 4,
 "nbformat_minor": 2
}
